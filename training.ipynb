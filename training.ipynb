{
 "cells": [
  {
   "cell_type": "code",
   "execution_count": 3,
   "metadata": {},
   "outputs": [
    {
     "name": "stdout",
     "output_type": "stream",
     "text": [
      "Chemin des images d'entraînement : c:\\Users\\akues\\OneDrive\\Documents\\process\\train\n",
      "Chemin des images de test : c:\\Users\\akues\\OneDrive\\Documents\\process\\test\n",
      "Chemin des images de validation : c:\\Users\\akues\\OneDrive\\Documents\\process\\validation\n",
      "Chemin du fichier train CSV : c:\\Users\\akues\\OneDrive\\Documents\\process\\train.csv\n",
      "Chemin du fichier test CSV : c:\\Users\\akues\\OneDrive\\Documents\\process\\test.csv\n",
      "Chemin du fichier validation CSV : c:\\Users\\akues\\OneDrive\\Documents\\process\\validation.csv\n"
     ]
    }
   ],
   "source": [
    "import os\n",
    "import pandas as pd\n",
    "import numpy as np\n",
    "from PIL import Image\n",
    "import torch\n",
    "from torch.utils.data import Dataset, DataLoader\n",
    "from torchvision import transforms\n",
    "import timm\n",
    "import matplotlib.pyplot as plt\n",
    "\n",
    "\n",
    "# Utiliser le dossier courant comme base (par défaut dans les notebooks)\n",
    "base_dir = os.getcwd()\n",
    "\n",
    "# Chemins des sous-dossiers pour train et test\n",
    "train_image_dir = os.path.join(base_dir, 'train')\n",
    "test_image_dir = os.path.join(base_dir, 'test')\n",
    "val_image_dir = os.path.join(base_dir, 'validation')\n",
    "\n",
    "# Chemin des fichiers CSV\n",
    "train_csv_file = os.path.join(base_dir, 'annotations/train.csv')\n",
    "test_csv_file = os.path.join(base_dir, 'annotations/test.csv')\n",
    "val_csv_file = os.path.join(base_dir, 'annotations/validation.csv')\n",
    "\n",
    "# Afficher les chemins pour vérifier\n",
    "print(\"Chemin des images d'entraînement :\", train_image_dir)\n",
    "print(\"Chemin des images de test :\", test_image_dir)\n",
    "print(\"Chemin des images de validation :\", val_image_dir)\n",
    "\n",
    "print(\"Chemin du fichier train CSV :\", train_csv_file)\n",
    "print(\"Chemin du fichier test CSV :\", test_csv_file)\n",
    "print(\"Chemin du fichier validation CSV :\", val_csv_file)\n"
   ]
  },
  {
   "cell_type": "code",
   "execution_count": 4,
   "metadata": {},
   "outputs": [],
   "source": [
    "import os\n",
    "from PIL import Image\n",
    "import pandas as pd\n",
    "import torch\n",
    "\n",
    "class HerbariumDataset:\n",
    "    def __init__(self, image_dir, csv_file, transform=None):\n",
    "        \"\"\"\n",
    "        Dataset pour charger des images et leurs labels à partir d'un dossier et d'un fichier CSV.\n",
    "\n",
    "        Args:\n",
    "        - image_dir (str): Chemin vers le dossier contenant les images.\n",
    "        - csv_file (str): Chemin vers le fichier CSV contenant les noms et labels.\n",
    "        - transform (callable, optional): Transformations à appliquer sur les images.\n",
    "        \"\"\"\n",
    "        self.image_dir = image_dir\n",
    "        self.transform = transform\n",
    "\n",
    "        # Charger le CSV et nettoyer les données\n",
    "        self.data = pd.read_csv(csv_file, sep=';')\n",
    "\n",
    "        # Supprimer les lignes où 'normalized_name' est NaN ou vide\n",
    "        self.data = self.data.dropna(subset=['normalized_name'])\n",
    "        self.data = self.data[self.data['normalized_name'].str.strip() != '']\n",
    "\n",
    "        # Vérifier que les fichiers mentionnés existent dans le dossier d'images\n",
    "        self.filter_missing_files()\n",
    "\n",
    "        if self.data.empty:\n",
    "            raise ValueError(\"Le DataFrame ne contient aucune ligne valide après le filtrage.\")\n",
    "\n",
    "    def filter_missing_files(self):\n",
    "        \"\"\"\n",
    "        Filtrer les lignes dont les fichiers image correspondants n'existent pas.\n",
    "        \"\"\"\n",
    "        valid_rows = []\n",
    "        for _, row in self.data.iterrows():\n",
    "            image_name = row['normalized_name'] + '.jpg'\n",
    "            image_path = os.path.join(self.image_dir, image_name)\n",
    "            if os.path.exists(image_path):\n",
    "                valid_rows.append(row)\n",
    "\n",
    "        self.data = pd.DataFrame(valid_rows)\n",
    "\n",
    "    def __len__(self):\n",
    "        return len(self.data)\n",
    "\n",
    "    def __getitem__(self, idx):\n",
    "        \"\"\"\n",
    "        Charger une image et ses labels.\n",
    "\n",
    "        Args:\n",
    "        - idx (int): Index de l'élément à récupérer.\n",
    "\n",
    "        Returns:\n",
    "        - image (PIL.Image or torch.Tensor): L'image chargée et transformée.\n",
    "        - label (torch.Tensor): Les labels associés (épines et feuilles externes acuminées).\n",
    "        \"\"\"\n",
    "        row = self.data.iloc[idx]\n",
    "\n",
    "        # Récupérer le chemin de l'image\n",
    "        image_name = row['normalized_name'] + '.jpg'\n",
    "        image_path = os.path.join(self.image_dir, image_name)\n",
    "\n",
    "        # Charger l'image\n",
    "        image = Image.open(image_path).convert('RGB')\n",
    "\n",
    "        # Appliquer les transformations si spécifiées\n",
    "        if self.transform:\n",
    "            image = self.transform(image)\n",
    "\n",
    "        # Charger les labels\n",
    "        label = torch.tensor([row['Epines'], row['BF'],row['TF']], dtype=torch.float32)\n",
    "\n",
    "        return image, label\n"
   ]
  },
  {
   "cell_type": "code",
   "execution_count": 5,
   "metadata": {},
   "outputs": [],
   "source": [
    "# Création des mappings id2label et label2id\n",
    "class_names = [\"Epines\", \"BF\", \"TF\"]\n",
    "id2label = {i: label for i, label in enumerate(class_names)}\n",
    "label2id = {label: i for i, label in enumerate(class_names)}"
   ]
  },
  {
   "cell_type": "markdown",
   "metadata": {},
   "source": [
    "### Transformation appliqué (data augmentation, resize, normalisation)"
   ]
  },
  {
   "cell_type": "code",
   "execution_count": 6,
   "metadata": {},
   "outputs": [],
   "source": [
    "from torchvision import transforms\n",
    "\n",
    "# Transformations pour l'entraînement (avec data augmentation)\n",
    "train_transform = transforms.Compose([\n",
    "    transforms.Resize((224, 224)),\n",
    "    transforms.RandomHorizontalFlip(),\n",
    "    transforms.RandomRotation(15),\n",
    "    transforms.ToTensor(),\n",
    "    transforms.Normalize([0.485, 0.456, 0.406], [0.229, 0.224, 0.225])\n",
    "])\n",
    "\n",
    "# Transformations pour la validation (sans data augmentation)\n",
    "val_transform = transforms.Compose([\n",
    "    transforms.Resize((224, 224)),\n",
    "    transforms.ToTensor(),\n",
    "    transforms.Normalize([0.485, 0.456, 0.406], [0.229, 0.224, 0.225])\n",
    "])\n",
    "\n",
    "# Transformations pour le test (identiques à la validation)\n",
    "test_transform = transforms.Compose([\n",
    "    transforms.Resize((224, 224)),\n",
    "    transforms.ToTensor(),\n",
    "    transforms.Normalize([0.485, 0.456, 0.406], [0.229, 0.224, 0.225])\n",
    "])\n"
   ]
  },
  {
   "cell_type": "markdown",
   "metadata": {},
   "source": [
    "### Structure pour utiliser les modeles :Davit,CoatNet,VitH"
   ]
  },
  {
   "cell_type": "code",
   "execution_count": null,
   "metadata": {},
   "outputs": [
    {
     "name": "stdout",
     "output_type": "stream",
     "text": [
      "CUDA est disponible\n",
      "Nombre de GPUs disponibles : 1\n",
      "Nom du GPU utilisé : NVIDIA GeForce RTX 4060 Laptop GPU\n",
      "Index du GPU actif : 0\n"
     ]
    }
   ],
   "source": [
    "import timm\n",
    "from torch import nn\n",
    "import torch.optim as optim\n",
    "from transformers import ViTForImageClassification\n",
    "from torch.optim import AdamW\n",
    "from transformers import AutoModelForImageClassification, AutoProcessor, AutoImageProcessor\n",
    "\n",
    "\n",
    "\n",
    "# Charger le modèle pré-entraîné \n",
    "#model_name = \"hf_hub:timm/davit_small.msft_in1k\"\n",
    "model_name = \"coatnet_0_rw_224.sw_in1k\"\n",
    "model = timm.create_model(model_name, pretrained=True,num_classes=3)\n",
    "\n",
    "\n",
    "\n",
    "# get model specific transforms (normalization, resize)\n",
    "data_config = timm.data.resolve_model_data_config(model)\n",
    "transform = timm.data.create_transform(**data_config, is_training=False)\n",
    "\n",
    "# Déplacer le modèle sur le GPU si disponible\n",
    "device = torch.device('cuda' if torch.cuda.is_available() else 'cpu')\n",
    "model.to(device)\n",
    "\n",
    "\n",
    "# Vérifier si CUDA est disponible\n",
    "if torch.cuda.is_available():\n",
    "    print(\"CUDA est disponible\")\n",
    "    print(\"Nombre de GPUs disponibles :\", torch.cuda.device_count())\n",
    "    print(\"Nom du GPU utilisé :\", torch.cuda.get_device_name(torch.cuda.current_device()))\n",
    "    print(\"Index du GPU actif :\", torch.cuda.current_device())\n",
    "else:\n",
    "    print(\"CUDA n'est pas disponible, utilisation du CPU.\")"
   ]
  },
  {
   "cell_type": "markdown",
   "metadata": {},
   "source": [
    "### Strucure pour utiliser le modele SwinV2 ou apple mobile"
   ]
  },
  {
   "cell_type": "code",
   "execution_count": 50,
   "metadata": {},
   "outputs": [
    {
     "data": {
      "text/plain": [
       "MobileViTV2ForImageClassification(\n",
       "  (mobilevitv2): MobileViTV2Model(\n",
       "    (conv_stem): MobileViTV2ConvLayer(\n",
       "      (convolution): Conv2d(3, 32, kernel_size=(3, 3), stride=(2, 2), padding=(1, 1), bias=False)\n",
       "      (normalization): BatchNorm2d(32, eps=1e-05, momentum=0.1, affine=True, track_running_stats=True)\n",
       "      (activation): SiLU()\n",
       "    )\n",
       "    (encoder): MobileViTV2Encoder(\n",
       "      (layer): ModuleList(\n",
       "        (0): MobileViTV2MobileNetLayer(\n",
       "          (layer): ModuleList(\n",
       "            (0): MobileViTV2InvertedResidual(\n",
       "              (expand_1x1): MobileViTV2ConvLayer(\n",
       "                (convolution): Conv2d(32, 64, kernel_size=(1, 1), stride=(1, 1), bias=False)\n",
       "                (normalization): BatchNorm2d(64, eps=1e-05, momentum=0.1, affine=True, track_running_stats=True)\n",
       "                (activation): SiLU()\n",
       "              )\n",
       "              (conv_3x3): MobileViTV2ConvLayer(\n",
       "                (convolution): Conv2d(64, 64, kernel_size=(3, 3), stride=(1, 1), padding=(1, 1), groups=64, bias=False)\n",
       "                (normalization): BatchNorm2d(64, eps=1e-05, momentum=0.1, affine=True, track_running_stats=True)\n",
       "                (activation): SiLU()\n",
       "              )\n",
       "              (reduce_1x1): MobileViTV2ConvLayer(\n",
       "                (convolution): Conv2d(64, 64, kernel_size=(1, 1), stride=(1, 1), bias=False)\n",
       "                (normalization): BatchNorm2d(64, eps=1e-05, momentum=0.1, affine=True, track_running_stats=True)\n",
       "              )\n",
       "            )\n",
       "          )\n",
       "        )\n",
       "        (1): MobileViTV2MobileNetLayer(\n",
       "          (layer): ModuleList(\n",
       "            (0): MobileViTV2InvertedResidual(\n",
       "              (expand_1x1): MobileViTV2ConvLayer(\n",
       "                (convolution): Conv2d(64, 128, kernel_size=(1, 1), stride=(1, 1), bias=False)\n",
       "                (normalization): BatchNorm2d(128, eps=1e-05, momentum=0.1, affine=True, track_running_stats=True)\n",
       "                (activation): SiLU()\n",
       "              )\n",
       "              (conv_3x3): MobileViTV2ConvLayer(\n",
       "                (convolution): Conv2d(128, 128, kernel_size=(3, 3), stride=(2, 2), padding=(1, 1), groups=128, bias=False)\n",
       "                (normalization): BatchNorm2d(128, eps=1e-05, momentum=0.1, affine=True, track_running_stats=True)\n",
       "                (activation): SiLU()\n",
       "              )\n",
       "              (reduce_1x1): MobileViTV2ConvLayer(\n",
       "                (convolution): Conv2d(128, 128, kernel_size=(1, 1), stride=(1, 1), bias=False)\n",
       "                (normalization): BatchNorm2d(128, eps=1e-05, momentum=0.1, affine=True, track_running_stats=True)\n",
       "              )\n",
       "            )\n",
       "            (1): MobileViTV2InvertedResidual(\n",
       "              (expand_1x1): MobileViTV2ConvLayer(\n",
       "                (convolution): Conv2d(128, 256, kernel_size=(1, 1), stride=(1, 1), bias=False)\n",
       "                (normalization): BatchNorm2d(256, eps=1e-05, momentum=0.1, affine=True, track_running_stats=True)\n",
       "                (activation): SiLU()\n",
       "              )\n",
       "              (conv_3x3): MobileViTV2ConvLayer(\n",
       "                (convolution): Conv2d(256, 256, kernel_size=(3, 3), stride=(1, 1), padding=(1, 1), groups=256, bias=False)\n",
       "                (normalization): BatchNorm2d(256, eps=1e-05, momentum=0.1, affine=True, track_running_stats=True)\n",
       "                (activation): SiLU()\n",
       "              )\n",
       "              (reduce_1x1): MobileViTV2ConvLayer(\n",
       "                (convolution): Conv2d(256, 128, kernel_size=(1, 1), stride=(1, 1), bias=False)\n",
       "                (normalization): BatchNorm2d(128, eps=1e-05, momentum=0.1, affine=True, track_running_stats=True)\n",
       "              )\n",
       "            )\n",
       "          )\n",
       "        )\n",
       "        (2): MobileViTV2Layer(\n",
       "          (downsampling_layer): MobileViTV2InvertedResidual(\n",
       "            (expand_1x1): MobileViTV2ConvLayer(\n",
       "              (convolution): Conv2d(128, 256, kernel_size=(1, 1), stride=(1, 1), bias=False)\n",
       "              (normalization): BatchNorm2d(256, eps=1e-05, momentum=0.1, affine=True, track_running_stats=True)\n",
       "              (activation): SiLU()\n",
       "            )\n",
       "            (conv_3x3): MobileViTV2ConvLayer(\n",
       "              (convolution): Conv2d(256, 256, kernel_size=(3, 3), stride=(2, 2), padding=(1, 1), groups=256, bias=False)\n",
       "              (normalization): BatchNorm2d(256, eps=1e-05, momentum=0.1, affine=True, track_running_stats=True)\n",
       "              (activation): SiLU()\n",
       "            )\n",
       "            (reduce_1x1): MobileViTV2ConvLayer(\n",
       "              (convolution): Conv2d(256, 256, kernel_size=(1, 1), stride=(1, 1), bias=False)\n",
       "              (normalization): BatchNorm2d(256, eps=1e-05, momentum=0.1, affine=True, track_running_stats=True)\n",
       "            )\n",
       "          )\n",
       "          (conv_kxk): MobileViTV2ConvLayer(\n",
       "            (convolution): Conv2d(256, 256, kernel_size=(3, 3), stride=(1, 1), padding=(1, 1), groups=256, bias=False)\n",
       "            (normalization): BatchNorm2d(256, eps=1e-05, momentum=0.1, affine=True, track_running_stats=True)\n",
       "            (activation): SiLU()\n",
       "          )\n",
       "          (conv_1x1): MobileViTV2ConvLayer(\n",
       "            (convolution): Conv2d(256, 128, kernel_size=(1, 1), stride=(1, 1), bias=False)\n",
       "          )\n",
       "          (transformer): MobileViTV2Transformer(\n",
       "            (layer): ModuleList(\n",
       "              (0-1): 2 x MobileViTV2TransformerLayer(\n",
       "                (layernorm_before): GroupNorm(1, 128, eps=1e-05, affine=True)\n",
       "                (attention): MobileViTV2LinearSelfAttention(\n",
       "                  (qkv_proj): MobileViTV2ConvLayer(\n",
       "                    (convolution): Conv2d(128, 257, kernel_size=(1, 1), stride=(1, 1))\n",
       "                  )\n",
       "                  (attn_dropout): Dropout(p=0.0, inplace=False)\n",
       "                  (out_proj): MobileViTV2ConvLayer(\n",
       "                    (convolution): Conv2d(128, 128, kernel_size=(1, 1), stride=(1, 1))\n",
       "                  )\n",
       "                )\n",
       "                (dropout1): Dropout(p=0.0, inplace=False)\n",
       "                (layernorm_after): GroupNorm(1, 128, eps=1e-05, affine=True)\n",
       "                (ffn): MobileViTV2FFN(\n",
       "                  (conv1): MobileViTV2ConvLayer(\n",
       "                    (convolution): Conv2d(128, 256, kernel_size=(1, 1), stride=(1, 1))\n",
       "                    (activation): SiLU()\n",
       "                  )\n",
       "                  (dropout1): Dropout(p=0.0, inplace=False)\n",
       "                  (conv2): MobileViTV2ConvLayer(\n",
       "                    (convolution): Conv2d(256, 128, kernel_size=(1, 1), stride=(1, 1))\n",
       "                  )\n",
       "                  (dropout2): Dropout(p=0.0, inplace=False)\n",
       "                )\n",
       "              )\n",
       "            )\n",
       "          )\n",
       "          (layernorm): GroupNorm(1, 128, eps=1e-05, affine=True)\n",
       "          (conv_projection): MobileViTV2ConvLayer(\n",
       "            (convolution): Conv2d(128, 256, kernel_size=(1, 1), stride=(1, 1), bias=False)\n",
       "            (normalization): BatchNorm2d(256, eps=1e-05, momentum=0.1, affine=True, track_running_stats=True)\n",
       "          )\n",
       "        )\n",
       "        (3): MobileViTV2Layer(\n",
       "          (downsampling_layer): MobileViTV2InvertedResidual(\n",
       "            (expand_1x1): MobileViTV2ConvLayer(\n",
       "              (convolution): Conv2d(256, 512, kernel_size=(1, 1), stride=(1, 1), bias=False)\n",
       "              (normalization): BatchNorm2d(512, eps=1e-05, momentum=0.1, affine=True, track_running_stats=True)\n",
       "              (activation): SiLU()\n",
       "            )\n",
       "            (conv_3x3): MobileViTV2ConvLayer(\n",
       "              (convolution): Conv2d(512, 512, kernel_size=(3, 3), stride=(2, 2), padding=(1, 1), groups=512, bias=False)\n",
       "              (normalization): BatchNorm2d(512, eps=1e-05, momentum=0.1, affine=True, track_running_stats=True)\n",
       "              (activation): SiLU()\n",
       "            )\n",
       "            (reduce_1x1): MobileViTV2ConvLayer(\n",
       "              (convolution): Conv2d(512, 384, kernel_size=(1, 1), stride=(1, 1), bias=False)\n",
       "              (normalization): BatchNorm2d(384, eps=1e-05, momentum=0.1, affine=True, track_running_stats=True)\n",
       "            )\n",
       "          )\n",
       "          (conv_kxk): MobileViTV2ConvLayer(\n",
       "            (convolution): Conv2d(384, 384, kernel_size=(3, 3), stride=(1, 1), padding=(1, 1), groups=384, bias=False)\n",
       "            (normalization): BatchNorm2d(384, eps=1e-05, momentum=0.1, affine=True, track_running_stats=True)\n",
       "            (activation): SiLU()\n",
       "          )\n",
       "          (conv_1x1): MobileViTV2ConvLayer(\n",
       "            (convolution): Conv2d(384, 192, kernel_size=(1, 1), stride=(1, 1), bias=False)\n",
       "          )\n",
       "          (transformer): MobileViTV2Transformer(\n",
       "            (layer): ModuleList(\n",
       "              (0-3): 4 x MobileViTV2TransformerLayer(\n",
       "                (layernorm_before): GroupNorm(1, 192, eps=1e-05, affine=True)\n",
       "                (attention): MobileViTV2LinearSelfAttention(\n",
       "                  (qkv_proj): MobileViTV2ConvLayer(\n",
       "                    (convolution): Conv2d(192, 385, kernel_size=(1, 1), stride=(1, 1))\n",
       "                  )\n",
       "                  (attn_dropout): Dropout(p=0.0, inplace=False)\n",
       "                  (out_proj): MobileViTV2ConvLayer(\n",
       "                    (convolution): Conv2d(192, 192, kernel_size=(1, 1), stride=(1, 1))\n",
       "                  )\n",
       "                )\n",
       "                (dropout1): Dropout(p=0.0, inplace=False)\n",
       "                (layernorm_after): GroupNorm(1, 192, eps=1e-05, affine=True)\n",
       "                (ffn): MobileViTV2FFN(\n",
       "                  (conv1): MobileViTV2ConvLayer(\n",
       "                    (convolution): Conv2d(192, 384, kernel_size=(1, 1), stride=(1, 1))\n",
       "                    (activation): SiLU()\n",
       "                  )\n",
       "                  (dropout1): Dropout(p=0.0, inplace=False)\n",
       "                  (conv2): MobileViTV2ConvLayer(\n",
       "                    (convolution): Conv2d(384, 192, kernel_size=(1, 1), stride=(1, 1))\n",
       "                  )\n",
       "                  (dropout2): Dropout(p=0.0, inplace=False)\n",
       "                )\n",
       "              )\n",
       "            )\n",
       "          )\n",
       "          (layernorm): GroupNorm(1, 192, eps=1e-05, affine=True)\n",
       "          (conv_projection): MobileViTV2ConvLayer(\n",
       "            (convolution): Conv2d(192, 384, kernel_size=(1, 1), stride=(1, 1), bias=False)\n",
       "            (normalization): BatchNorm2d(384, eps=1e-05, momentum=0.1, affine=True, track_running_stats=True)\n",
       "          )\n",
       "        )\n",
       "        (4): MobileViTV2Layer(\n",
       "          (downsampling_layer): MobileViTV2InvertedResidual(\n",
       "            (expand_1x1): MobileViTV2ConvLayer(\n",
       "              (convolution): Conv2d(384, 768, kernel_size=(1, 1), stride=(1, 1), bias=False)\n",
       "              (normalization): BatchNorm2d(768, eps=1e-05, momentum=0.1, affine=True, track_running_stats=True)\n",
       "              (activation): SiLU()\n",
       "            )\n",
       "            (conv_3x3): MobileViTV2ConvLayer(\n",
       "              (convolution): Conv2d(768, 768, kernel_size=(3, 3), stride=(2, 2), padding=(1, 1), groups=768, bias=False)\n",
       "              (normalization): BatchNorm2d(768, eps=1e-05, momentum=0.1, affine=True, track_running_stats=True)\n",
       "              (activation): SiLU()\n",
       "            )\n",
       "            (reduce_1x1): MobileViTV2ConvLayer(\n",
       "              (convolution): Conv2d(768, 512, kernel_size=(1, 1), stride=(1, 1), bias=False)\n",
       "              (normalization): BatchNorm2d(512, eps=1e-05, momentum=0.1, affine=True, track_running_stats=True)\n",
       "            )\n",
       "          )\n",
       "          (conv_kxk): MobileViTV2ConvLayer(\n",
       "            (convolution): Conv2d(512, 512, kernel_size=(3, 3), stride=(1, 1), padding=(1, 1), groups=512, bias=False)\n",
       "            (normalization): BatchNorm2d(512, eps=1e-05, momentum=0.1, affine=True, track_running_stats=True)\n",
       "            (activation): SiLU()\n",
       "          )\n",
       "          (conv_1x1): MobileViTV2ConvLayer(\n",
       "            (convolution): Conv2d(512, 256, kernel_size=(1, 1), stride=(1, 1), bias=False)\n",
       "          )\n",
       "          (transformer): MobileViTV2Transformer(\n",
       "            (layer): ModuleList(\n",
       "              (0-2): 3 x MobileViTV2TransformerLayer(\n",
       "                (layernorm_before): GroupNorm(1, 256, eps=1e-05, affine=True)\n",
       "                (attention): MobileViTV2LinearSelfAttention(\n",
       "                  (qkv_proj): MobileViTV2ConvLayer(\n",
       "                    (convolution): Conv2d(256, 513, kernel_size=(1, 1), stride=(1, 1))\n",
       "                  )\n",
       "                  (attn_dropout): Dropout(p=0.0, inplace=False)\n",
       "                  (out_proj): MobileViTV2ConvLayer(\n",
       "                    (convolution): Conv2d(256, 256, kernel_size=(1, 1), stride=(1, 1))\n",
       "                  )\n",
       "                )\n",
       "                (dropout1): Dropout(p=0.0, inplace=False)\n",
       "                (layernorm_after): GroupNorm(1, 256, eps=1e-05, affine=True)\n",
       "                (ffn): MobileViTV2FFN(\n",
       "                  (conv1): MobileViTV2ConvLayer(\n",
       "                    (convolution): Conv2d(256, 512, kernel_size=(1, 1), stride=(1, 1))\n",
       "                    (activation): SiLU()\n",
       "                  )\n",
       "                  (dropout1): Dropout(p=0.0, inplace=False)\n",
       "                  (conv2): MobileViTV2ConvLayer(\n",
       "                    (convolution): Conv2d(512, 256, kernel_size=(1, 1), stride=(1, 1))\n",
       "                  )\n",
       "                  (dropout2): Dropout(p=0.0, inplace=False)\n",
       "                )\n",
       "              )\n",
       "            )\n",
       "          )\n",
       "          (layernorm): GroupNorm(1, 256, eps=1e-05, affine=True)\n",
       "          (conv_projection): MobileViTV2ConvLayer(\n",
       "            (convolution): Conv2d(256, 512, kernel_size=(1, 1), stride=(1, 1), bias=False)\n",
       "            (normalization): BatchNorm2d(512, eps=1e-05, momentum=0.1, affine=True, track_running_stats=True)\n",
       "          )\n",
       "        )\n",
       "      )\n",
       "    )\n",
       "  )\n",
       "  (classifier): Linear(in_features=512, out_features=3, bias=True)\n",
       ")"
      ]
     },
     "execution_count": 50,
     "metadata": {},
     "output_type": "execute_result"
    }
   ],
   "source": [
    "from transformers import AutoImageProcessor, AutoModelForImageClassification\n",
    "from torch import nn\n",
    "\"\"\"\n",
    "processor = AutoImageProcessor.from_pretrained(\"microsoft/swinv2-tiny-patch4-window8-256\")\n",
    "model = AutoModelForImageClassification.from_pretrained(\"microsoft/swinv2-tiny-patch4-window8-256\")\n",
    "model_name = \"microsoft/swinv2-tiny-patch4-window8-256\"\n",
    "\"\"\"\n",
    "processor = AutoImageProcessor.from_pretrained(\"apple/mobilevitv2-1.0-imagenet1k-256\")\n",
    "model = AutoModelForImageClassification.from_pretrained(\"apple/mobilevitv2-1.0-imagenet1k-256\")\n",
    "model_name = \"apple/mobilevitv2-1.0-imagenet1k-256\"\n",
    "\n",
    "\n",
    "# Adapter la tête de classification à 3 classes\n",
    "model.classifier = nn.Linear(model.classifier.in_features, 3)\n",
    "device = torch.device('cuda' if torch.cuda.is_available() else 'cpu')\n",
    "model.to(device)\n"
   ]
  },
  {
   "cell_type": "code",
   "execution_count": 8,
   "metadata": {},
   "outputs": [],
   "source": [
    "def collate_fn(batch):\n",
    "    # Filtrer les exemples qui sont None\n",
    "    batch = [b for b in batch if b is not None]\n",
    "    return torch.utils.data.default_collate(batch)\n",
    "\n",
    "\n",
    "#Create datasets\n",
    "train_dataset = HerbariumDataset(csv_file=train_csv_file, image_dir=train_image_dir, transform=train_transform)\n",
    "test_dataset = HerbariumDataset(csv_file=test_csv_file, image_dir=test_image_dir, transform=test_transform)\n",
    "val_dataset = HerbariumDataset(csv_file=val_csv_file, image_dir=val_image_dir, transform=val_transform)\n",
    "\n",
    "\n",
    "# Create dataloaders\n",
    "train_loader = DataLoader(train_dataset, batch_size=16, shuffle=True,collate_fn=collate_fn)\n",
    "test_loader = DataLoader(test_dataset, batch_size=16, shuffle=False,collate_fn=collate_fn)\n",
    "val_loader = DataLoader(val_dataset, batch_size=16, shuffle=False,collate_fn=collate_fn)"
   ]
  },
  {
   "cell_type": "markdown",
   "metadata": {},
   "source": [
    "### Class weight "
   ]
  },
  {
   "cell_type": "code",
   "execution_count": 9,
   "metadata": {},
   "outputs": [],
   "source": [
    "# Calculer les poids des classes à partir des données d'entraînement\n",
    "def calculate_class_weights(train_loader):\n",
    "    total_samples = 0\n",
    "    class_counts = None\n",
    "\n",
    "    for _, labels in train_loader:\n",
    "        labels = labels.numpy()\n",
    "        if class_counts is None:\n",
    "            class_counts = np.sum(labels, axis=0)\n",
    "        else:\n",
    "            class_counts += np.sum(labels, axis=0)\n",
    "        total_samples += labels.shape[0]\n",
    "\n",
    "    class_weights = total_samples / (len(class_counts) * class_counts)\n",
    "    return torch.tensor(class_weights, dtype=torch.float32)\n",
    "\n",
    "# Calcul des poids des classes\n",
    "class_weights = calculate_class_weights(train_loader).to(device)"
   ]
  },
  {
   "cell_type": "markdown",
   "metadata": {},
   "source": [
    "### Loop Training for Timm loaded model "
   ]
  },
  {
   "cell_type": "code",
   "execution_count": 10,
   "metadata": {},
   "outputs": [
    {
     "name": "stdout",
     "output_type": "stream",
     "text": [
      "Epoch 1/25\n"
     ]
    },
    {
     "name": "stderr",
     "output_type": "stream",
     "text": [
      "                                                         \r"
     ]
    },
    {
     "name": "stdout",
     "output_type": "stream",
     "text": [
      "Epoch [1/25], Train Loss: 0.1416, Train Accuracy: 91.70%, Train F1: 0.9562, Train Recall: 0.9751, Train Precision: 0.9395, Val Loss: 0.1037, Val Accuracy: 94.62%, Val F1: 0.9720, Val Recall: 1.0000, Val Precision: 0.9462\n",
      "Epoch 2/25\n"
     ]
    },
    {
     "name": "stderr",
     "output_type": "stream",
     "text": [
      "                                                         \r"
     ]
    },
    {
     "name": "stdout",
     "output_type": "stream",
     "text": [
      "Epoch [2/25], Train Loss: 0.0876, Train Accuracy: 95.85%, Train F1: 0.9774, Train Recall: 0.9881, Train Precision: 0.9670, Val Loss: 0.0629, Val Accuracy: 97.13%, Val F1: 0.9845, Val Recall: 0.9883, Val Precision: 0.9808\n",
      "Epoch 3/25\n"
     ]
    },
    {
     "name": "stderr",
     "output_type": "stream",
     "text": [
      "                                                         \r"
     ]
    },
    {
     "name": "stdout",
     "output_type": "stream",
     "text": [
      "Epoch [3/25], Train Loss: 0.0441, Train Accuracy: 98.58%, Train F1: 0.9921, Train Recall: 0.9934, Train Precision: 0.9908, Val Loss: 0.0448, Val Accuracy: 97.49%, Val F1: 0.9864, Val Recall: 0.9883, Val Precision: 0.9845\n",
      "Epoch 4/25\n"
     ]
    },
    {
     "name": "stderr",
     "output_type": "stream",
     "text": [
      "                                                         \r"
     ]
    },
    {
     "name": "stdout",
     "output_type": "stream",
     "text": [
      "Epoch [4/25], Train Loss: 0.0250, Train Accuracy: 99.05%, Train F1: 0.9948, Train Recall: 0.9974, Train Precision: 0.9922, Val Loss: 0.0355, Val Accuracy: 98.57%, Val F1: 0.9922, Val Recall: 0.9922, Val Precision: 0.9922\n",
      "Epoch 5/25\n"
     ]
    },
    {
     "name": "stderr",
     "output_type": "stream",
     "text": [
      "                                                         \r"
     ]
    },
    {
     "name": "stdout",
     "output_type": "stream",
     "text": [
      "Epoch [5/25], Train Loss: 0.0352, Train Accuracy: 97.27%, Train F1: 0.9847, Train Recall: 0.9738, Train Precision: 0.9959, Val Loss: 0.0914, Val Accuracy: 96.77%, Val F1: 0.9829, Val Recall: 1.0000, Val Precision: 0.9667\n",
      "Epoch 6/25\n"
     ]
    },
    {
     "name": "stderr",
     "output_type": "stream",
     "text": [
      "                                                         \r"
     ]
    },
    {
     "name": "stdout",
     "output_type": "stream",
     "text": [
      "Epoch [6/25], Train Loss: 0.0495, Train Accuracy: 97.51%, Train F1: 0.9862, Train Recall: 0.9856, Train Precision: 0.9869, Val Loss: 0.0672, Val Accuracy: 97.49%, Val F1: 0.9865, Val Recall: 0.9922, Val Precision: 0.9808\n",
      "Epoch 7/25\n"
     ]
    },
    {
     "name": "stderr",
     "output_type": "stream",
     "text": [
      "                                                         \r"
     ]
    },
    {
     "name": "stdout",
     "output_type": "stream",
     "text": [
      "Epoch [7/25], Train Loss: 0.0166, Train Accuracy: 99.53%, Train F1: 0.9974, Train Recall: 0.9961, Train Precision: 0.9987, Val Loss: 0.0615, Val Accuracy: 97.49%, Val F1: 0.9865, Val Recall: 0.9922, Val Precision: 0.9808\n",
      "Epoch 8/25\n"
     ]
    },
    {
     "name": "stderr",
     "output_type": "stream",
     "text": [
      "                                                         \r"
     ]
    },
    {
     "name": "stdout",
     "output_type": "stream",
     "text": [
      "Epoch [8/25], Train Loss: 0.0075, Train Accuracy: 99.88%, Train F1: 0.9994, Train Recall: 0.9987, Train Precision: 1.0000, Val Loss: 0.0698, Val Accuracy: 97.49%, Val F1: 0.9865, Val Recall: 0.9922, Val Precision: 0.9808\n",
      "Epoch 9/25\n"
     ]
    },
    {
     "name": "stderr",
     "output_type": "stream",
     "text": [
      "                                                         \r"
     ]
    },
    {
     "name": "stdout",
     "output_type": "stream",
     "text": [
      "Epoch [9/25], Train Loss: 0.0055, Train Accuracy: 100.00%, Train F1: 1.0000, Train Recall: 1.0000, Train Precision: 1.0000, Val Loss: 0.0713, Val Accuracy: 97.49%, Val F1: 0.9865, Val Recall: 0.9922, Val Precision: 0.9808\n",
      "Epoch 10/25\n"
     ]
    },
    {
     "name": "stderr",
     "output_type": "stream",
     "text": [
      "                                                         \r"
     ]
    },
    {
     "name": "stdout",
     "output_type": "stream",
     "text": [
      "Epoch [10/25], Train Loss: 0.0045, Train Accuracy: 100.00%, Train F1: 1.0000, Train Recall: 1.0000, Train Precision: 1.0000, Val Loss: 0.0801, Val Accuracy: 97.49%, Val F1: 0.9865, Val Recall: 0.9922, Val Precision: 0.9808\n",
      "Epoch 11/25\n"
     ]
    },
    {
     "name": "stderr",
     "output_type": "stream",
     "text": [
      "                                                         \r"
     ]
    },
    {
     "name": "stdout",
     "output_type": "stream",
     "text": [
      "Epoch [11/25], Train Loss: 0.0040, Train Accuracy: 100.00%, Train F1: 1.0000, Train Recall: 1.0000, Train Precision: 1.0000, Val Loss: 0.0792, Val Accuracy: 97.49%, Val F1: 0.9865, Val Recall: 0.9922, Val Precision: 0.9808\n",
      "Epoch 12/25\n"
     ]
    },
    {
     "name": "stderr",
     "output_type": "stream",
     "text": [
      "                                                         \r"
     ]
    },
    {
     "name": "stdout",
     "output_type": "stream",
     "text": [
      "Epoch [12/25], Train Loss: 0.0062, Train Accuracy: 99.88%, Train F1: 0.9993, Train Recall: 1.0000, Train Precision: 0.9987, Val Loss: 0.0752, Val Accuracy: 97.49%, Val F1: 0.9865, Val Recall: 0.9922, Val Precision: 0.9808\n",
      "Epoch 13/25\n"
     ]
    },
    {
     "name": "stderr",
     "output_type": "stream",
     "text": [
      "                                                         \r"
     ]
    },
    {
     "name": "stdout",
     "output_type": "stream",
     "text": [
      "Epoch [13/25], Train Loss: 0.0033, Train Accuracy: 100.00%, Train F1: 1.0000, Train Recall: 1.0000, Train Precision: 1.0000, Val Loss: 0.0906, Val Accuracy: 97.49%, Val F1: 0.9865, Val Recall: 0.9922, Val Precision: 0.9808\n",
      "Epoch 14/25\n"
     ]
    },
    {
     "name": "stderr",
     "output_type": "stream",
     "text": [
      "                                                         \r"
     ]
    },
    {
     "name": "stdout",
     "output_type": "stream",
     "text": [
      "Epoch [14/25], Train Loss: 0.0038, Train Accuracy: 100.00%, Train F1: 1.0000, Train Recall: 1.0000, Train Precision: 1.0000, Val Loss: 0.0759, Val Accuracy: 97.49%, Val F1: 0.9865, Val Recall: 0.9922, Val Precision: 0.9808\n",
      "Epoch 15/25\n"
     ]
    },
    {
     "name": "stderr",
     "output_type": "stream",
     "text": [
      "                                                         \r"
     ]
    },
    {
     "name": "stdout",
     "output_type": "stream",
     "text": [
      "Epoch [15/25], Train Loss: 0.0030, Train Accuracy: 100.00%, Train F1: 1.0000, Train Recall: 1.0000, Train Precision: 1.0000, Val Loss: 0.0925, Val Accuracy: 97.13%, Val F1: 0.9846, Val Recall: 0.9922, Val Precision: 0.9771\n",
      "Epoch 16/25\n"
     ]
    },
    {
     "name": "stderr",
     "output_type": "stream",
     "text": [
      "                                                         \r"
     ]
    },
    {
     "name": "stdout",
     "output_type": "stream",
     "text": [
      "Epoch [16/25], Train Loss: 0.0024, Train Accuracy: 100.00%, Train F1: 1.0000, Train Recall: 1.0000, Train Precision: 1.0000, Val Loss: 0.0925, Val Accuracy: 97.49%, Val F1: 0.9865, Val Recall: 0.9922, Val Precision: 0.9808\n",
      "Epoch 17/25\n"
     ]
    },
    {
     "name": "stderr",
     "output_type": "stream",
     "text": [
      "                                                         \r"
     ]
    },
    {
     "name": "stdout",
     "output_type": "stream",
     "text": [
      "Epoch [17/25], Train Loss: 0.0021, Train Accuracy: 100.00%, Train F1: 1.0000, Train Recall: 1.0000, Train Precision: 1.0000, Val Loss: 0.0934, Val Accuracy: 97.49%, Val F1: 0.9865, Val Recall: 0.9922, Val Precision: 0.9808\n",
      "Epoch 18/25\n"
     ]
    },
    {
     "name": "stderr",
     "output_type": "stream",
     "text": [
      "                                                         \r"
     ]
    },
    {
     "name": "stdout",
     "output_type": "stream",
     "text": [
      "Epoch [18/25], Train Loss: 0.0020, Train Accuracy: 100.00%, Train F1: 1.0000, Train Recall: 1.0000, Train Precision: 1.0000, Val Loss: 0.0942, Val Accuracy: 97.49%, Val F1: 0.9865, Val Recall: 0.9922, Val Precision: 0.9808\n",
      "Epoch 19/25\n"
     ]
    },
    {
     "name": "stderr",
     "output_type": "stream",
     "text": [
      "                                                         \r"
     ]
    },
    {
     "name": "stdout",
     "output_type": "stream",
     "text": [
      "Epoch [19/25], Train Loss: 0.0018, Train Accuracy: 100.00%, Train F1: 1.0000, Train Recall: 1.0000, Train Precision: 1.0000, Val Loss: 0.0959, Val Accuracy: 97.49%, Val F1: 0.9865, Val Recall: 0.9922, Val Precision: 0.9808\n",
      "Epoch 20/25\n"
     ]
    },
    {
     "name": "stderr",
     "output_type": "stream",
     "text": [
      "                                                         \r"
     ]
    },
    {
     "name": "stdout",
     "output_type": "stream",
     "text": [
      "Epoch [20/25], Train Loss: 0.0017, Train Accuracy: 100.00%, Train F1: 1.0000, Train Recall: 1.0000, Train Precision: 1.0000, Val Loss: 0.0979, Val Accuracy: 97.49%, Val F1: 0.9865, Val Recall: 0.9922, Val Precision: 0.9808\n",
      "Epoch 21/25\n"
     ]
    },
    {
     "name": "stderr",
     "output_type": "stream",
     "text": [
      "                                                         \r"
     ]
    },
    {
     "name": "stdout",
     "output_type": "stream",
     "text": [
      "Epoch [21/25], Train Loss: 0.0016, Train Accuracy: 100.00%, Train F1: 1.0000, Train Recall: 1.0000, Train Precision: 1.0000, Val Loss: 0.0996, Val Accuracy: 97.49%, Val F1: 0.9865, Val Recall: 0.9922, Val Precision: 0.9808\n",
      "Epoch 22/25\n"
     ]
    },
    {
     "name": "stderr",
     "output_type": "stream",
     "text": [
      "                                                         \r"
     ]
    },
    {
     "name": "stdout",
     "output_type": "stream",
     "text": [
      "Epoch [22/25], Train Loss: 0.0016, Train Accuracy: 100.00%, Train F1: 1.0000, Train Recall: 1.0000, Train Precision: 1.0000, Val Loss: 0.0981, Val Accuracy: 97.49%, Val F1: 0.9865, Val Recall: 0.9922, Val Precision: 0.9808\n",
      "Epoch 23/25\n"
     ]
    },
    {
     "name": "stderr",
     "output_type": "stream",
     "text": [
      "                                                         \r"
     ]
    },
    {
     "name": "stdout",
     "output_type": "stream",
     "text": [
      "Epoch [23/25], Train Loss: 0.0014, Train Accuracy: 100.00%, Train F1: 1.0000, Train Recall: 1.0000, Train Precision: 1.0000, Val Loss: 0.1003, Val Accuracy: 97.49%, Val F1: 0.9865, Val Recall: 0.9922, Val Precision: 0.9808\n",
      "Epoch 24/25\n"
     ]
    },
    {
     "name": "stderr",
     "output_type": "stream",
     "text": [
      "                                                         \r"
     ]
    },
    {
     "name": "stdout",
     "output_type": "stream",
     "text": [
      "Epoch [24/25], Train Loss: 0.0013, Train Accuracy: 100.00%, Train F1: 1.0000, Train Recall: 1.0000, Train Precision: 1.0000, Val Loss: 0.1017, Val Accuracy: 97.49%, Val F1: 0.9865, Val Recall: 0.9922, Val Precision: 0.9808\n",
      "Epoch 25/25\n"
     ]
    },
    {
     "name": "stderr",
     "output_type": "stream",
     "text": [
      "                                                         \r"
     ]
    },
    {
     "name": "stdout",
     "output_type": "stream",
     "text": [
      "Epoch [25/25], Train Loss: 0.0013, Train Accuracy: 100.00%, Train F1: 1.0000, Train Recall: 1.0000, Train Precision: 1.0000, Val Loss: 0.1028, Val Accuracy: 97.49%, Val F1: 0.9865, Val Recall: 0.9922, Val Precision: 0.9808\n"
     ]
    },
    {
     "name": "stderr",
     "output_type": "stream",
     "text": [
      "                                                      "
     ]
    },
    {
     "name": "stdout",
     "output_type": "stream",
     "text": [
      "Test Accuracy: 98.11%, Test F1: 0.9901, Test Recall: 1.0000, Test Precision: 0.9806\n"
     ]
    },
    {
     "name": "stderr",
     "output_type": "stream",
     "text": [
      "\r"
     ]
    }
   ],
   "source": [
    "from sklearn.metrics import accuracy_score, f1_score, recall_score, precision_score\n",
    "from tqdm import tqdm\n",
    "import torch\n",
    "import torch.nn as nn\n",
    "import torch.optim as optim\n",
    "import numpy as np\n",
    "\n",
    "# Définir la perte et l'optimiseur\n",
    "#criterion = nn.BCEWithLogitsLoss()  # Pour classification binaire sur plusieurs catégories\n",
    "criterion = nn.BCEWithLogitsLoss(pos_weight=class_weights)  # Ajouter les poids des classes\n",
    "optimizer = optim.AdamW(model.parameters(), lr=1e-4)\n",
    "\n",
    "# Initialisation des listes pour stocker les métriques\n",
    "epochs = []\n",
    "train_losses = []\n",
    "val_losses = []\n",
    "train_accuracies = []\n",
    "val_accuracies = []\n",
    "train_f1s = []\n",
    "val_f1s = []\n",
    "train_recalls = []\n",
    "val_recalls = []\n",
    "train_precisions = []\n",
    "val_precisions = []\n",
    "\n",
    "# Boucle d'entraînement\n",
    "num_epochs = 25\n",
    "for epoch in range(num_epochs):\n",
    "    model.train()\n",
    "    running_loss = 0.0\n",
    "    correct_train = 0\n",
    "    all_train_labels = []\n",
    "    all_train_preds = []\n",
    "\n",
    "    print(f\"Epoch {epoch + 1}/{num_epochs}\")\n",
    "    for images, labels in tqdm(train_loader, desc=\"Training\", leave=False):\n",
    "        images = images.to(device)\n",
    "        labels = labels.to(device).float()  # Labels doivent être de type float pour BCEWithLogitsLoss\n",
    "\n",
    "        optimizer.zero_grad()\n",
    "        logits = model(images)  # Utiliser directement les logits car timm retourne un tenseur\n",
    "        loss = criterion(logits, labels)\n",
    "        loss.backward()\n",
    "        optimizer.step()\n",
    "\n",
    "        running_loss += loss.item()\n",
    "        probabilities = torch.sigmoid(logits).detach().cpu().numpy()\n",
    "        predictions = probabilities > 0.5\n",
    "        all_train_labels.append(labels.cpu().numpy())\n",
    "        all_train_preds.append(probabilities)\n",
    "        correct_train += (predictions == labels.cpu().numpy()).sum()\n",
    "\n",
    "    all_train_labels = np.vstack(all_train_labels)\n",
    "    all_train_preds = np.vstack(all_train_preds)\n",
    "\n",
    "    train_f1 = f1_score(all_train_labels, all_train_preds > 0.5, average=\"macro\")\n",
    "    train_recall = recall_score(all_train_labels, all_train_preds > 0.5, average=\"macro\")\n",
    "    train_precision = precision_score(all_train_labels, all_train_preds > 0.5, average=\"macro\")\n",
    "    train_accuracy = correct_train / (len(train_dataset) * 3)\n",
    "\n",
    "    train_f1s.append(train_f1)\n",
    "    train_recalls.append(train_recall)\n",
    "    train_precisions.append(train_precision)\n",
    "\n",
    "    # Validation\n",
    "    model.eval()\n",
    "    val_loss = 0.0\n",
    "    correct_val = 0\n",
    "    all_val_labels = []\n",
    "    all_val_preds = []\n",
    "\n",
    "    with torch.no_grad():\n",
    "        for images, labels in tqdm(val_loader, desc=\"Validating\", leave=False):\n",
    "            images = images.to(device)\n",
    "            labels = labels.to(device).float()\n",
    "            logits = model(images)  # Utiliser directement les logits car timm retourne un tenseur\n",
    "            loss = criterion(logits, labels)\n",
    "            val_loss += loss.item()\n",
    "\n",
    "            probabilities = torch.sigmoid(logits).cpu().numpy()\n",
    "            predictions = probabilities > 0.5\n",
    "            all_val_labels.append(labels.cpu().numpy())\n",
    "            all_val_preds.append(probabilities)\n",
    "            correct_val += (predictions == labels.cpu().numpy()).sum()\n",
    "\n",
    "    all_val_labels = np.vstack(all_val_labels)\n",
    "    all_val_preds = np.vstack(all_val_preds)\n",
    "\n",
    "    val_f1 = f1_score(all_val_labels, all_val_preds > 0.5, average=\"macro\")\n",
    "    val_recall = recall_score(all_val_labels, all_val_preds > 0.5, average=\"macro\")\n",
    "    val_precision = precision_score(all_val_labels, all_val_preds > 0.5, average=\"macro\")\n",
    "    val_accuracy = correct_val / (len(val_dataset) * 3)\n",
    "\n",
    "    val_f1s.append(val_f1)\n",
    "    val_recalls.append(val_recall)\n",
    "    val_precisions.append(val_precision)\n",
    "\n",
    "    # Stocker les métriques\n",
    "    epochs.append(epoch + 1)\n",
    "    train_losses.append(running_loss / len(train_loader))\n",
    "    val_losses.append(val_loss / len(val_loader))\n",
    "    train_accuracies.append(train_accuracy * 100)\n",
    "    val_accuracies.append(val_accuracy * 100)\n",
    "\n",
    "    print(f\"Epoch [{epoch + 1}/{num_epochs}], Train Loss: {running_loss / len(train_loader):.4f}, Train Accuracy: {train_accuracy * 100:.2f}%, Train F1: {train_f1:.4f}, Train Recall: {train_recall:.4f}, Train Precision: {train_precision:.4f}, Val Loss: {val_loss / len(val_loader):.4f}, Val Accuracy: {val_accuracy * 100:.2f}%, Val F1: {val_f1:.4f}, Val Recall: {val_recall:.4f}, Val Precision: {val_precision:.4f}\")\n",
    "\n",
    "# Boucle d'évaluation sur le test set\n",
    "model.eval()\n",
    "correct = 0\n",
    "all_test_labels = []\n",
    "all_test_preds = []\n",
    "\n",
    "with torch.no_grad():\n",
    "    for images, labels in tqdm(test_loader, desc=\"Testing\", leave=False):\n",
    "        images = images.to(device)\n",
    "        labels = labels.to(device).float()\n",
    "        logits = model(images)  # Utiliser directement les logits car timm retourne un tenseur\n",
    "        probabilities = torch.sigmoid(logits).cpu().numpy()\n",
    "        predictions = probabilities > 0.5  # Convertir logits en probabilités\n",
    "        all_test_labels.append(labels.cpu().numpy())\n",
    "        all_test_preds.append(probabilities)\n",
    "        correct += (predictions == labels.cpu().numpy()).sum()\n",
    "\n",
    "all_test_labels = np.vstack(all_test_labels)\n",
    "all_test_preds = np.vstack(all_test_preds)\n",
    "\n",
    "f1 = f1_score(all_test_labels, all_test_preds > 0.5, average=\"macro\")\n",
    "recall = recall_score(all_test_labels, all_test_preds > 0.5, average=\"macro\")\n",
    "precision = precision_score(all_test_labels, all_test_preds > 0.5, average=\"macro\")\n",
    "accuracy = correct / (len(test_dataset) * 3)  # Nombre total d'échantillons * 3 catégories\n",
    "\n",
    "print(f\"Test Accuracy: {accuracy * 100:.2f}%, Test F1: {f1:.4f}, Test Recall: {recall:.4f}, Test Precision: {precision:.4f}\")\n"
   ]
  },
  {
   "cell_type": "markdown",
   "metadata": {},
   "source": [
    "### loop de training pour SwinV2 et applemobileITV"
   ]
  },
  {
   "cell_type": "code",
   "execution_count": 51,
   "metadata": {},
   "outputs": [
    {
     "name": "stdout",
     "output_type": "stream",
     "text": [
      "Epoch 1/25\n"
     ]
    },
    {
     "name": "stderr",
     "output_type": "stream",
     "text": [
      "                                                         \r"
     ]
    },
    {
     "name": "stdout",
     "output_type": "stream",
     "text": [
      "Epoch [1/25], Train Loss: 0.2709, Train Accuracy: 52.91%, Train F1: 0.6721, Train Recall: 0.5234, Train Precision: 0.9668, Val Loss: 0.2686, Val Accuracy: 54.84%, Val F1: 0.6591, Val Recall: 0.5523, Val Precision: 0.9765\n",
      "Epoch 2/25\n"
     ]
    },
    {
     "name": "stderr",
     "output_type": "stream",
     "text": [
      "                                                         \r"
     ]
    },
    {
     "name": "stdout",
     "output_type": "stream",
     "text": [
      "Epoch [2/25], Train Loss: 0.2631, Train Accuracy: 62.75%, Train F1: 0.7532, Train Recall: 0.6135, Train Precision: 0.9905, Val Loss: 0.2600, Val Accuracy: 62.37%, Val F1: 0.7491, Val Recall: 0.6110, Val Precision: 0.9946\n",
      "Epoch 3/25\n"
     ]
    },
    {
     "name": "stderr",
     "output_type": "stream",
     "text": [
      "                                                         \r"
     ]
    },
    {
     "name": "stdout",
     "output_type": "stream",
     "text": [
      "Epoch [3/25], Train Loss: 0.2523, Train Accuracy: 71.65%, Train F1: 0.8229, Train Recall: 0.7017, Train Precision: 0.9964, Val Loss: 0.2515, Val Accuracy: 69.18%, Val F1: 0.8054, Val Recall: 0.6815, Val Precision: 0.9948\n",
      "Epoch 4/25\n"
     ]
    },
    {
     "name": "stderr",
     "output_type": "stream",
     "text": [
      "                                                         \r"
     ]
    },
    {
     "name": "stdout",
     "output_type": "stream",
     "text": [
      "Epoch [4/25], Train Loss: 0.2386, Train Accuracy: 74.73%, Train F1: 0.8449, Train Recall: 0.7318, Train Precision: 1.0000, Val Loss: 0.2386, Val Accuracy: 74.91%, Val F1: 0.8479, Val Recall: 0.7388, Val Precision: 0.9948\n",
      "Epoch 5/25\n"
     ]
    },
    {
     "name": "stderr",
     "output_type": "stream",
     "text": [
      "                                                         \r"
     ]
    },
    {
     "name": "stdout",
     "output_type": "stream",
     "text": [
      "Epoch [5/25], Train Loss: 0.2189, Train Accuracy: 82.56%, Train F1: 0.8975, Train Recall: 0.8164, Train Precision: 0.9968, Val Loss: 0.2231, Val Accuracy: 77.78%, Val F1: 0.8670, Val Recall: 0.7689, Val Precision: 0.9947\n",
      "Epoch 6/25\n"
     ]
    },
    {
     "name": "stderr",
     "output_type": "stream",
     "text": [
      "                                                         \r"
     ]
    },
    {
     "name": "stdout",
     "output_type": "stream",
     "text": [
      "Epoch [6/25], Train Loss: 0.2006, Train Accuracy: 87.78%, Train F1: 0.9302, Train Recall: 0.8708, Train Precision: 0.9985, Val Loss: 0.2083, Val Accuracy: 86.02%, Val F1: 0.9206, Val Recall: 0.8562, Val Precision: 0.9954\n",
      "Epoch 7/25\n"
     ]
    },
    {
     "name": "stderr",
     "output_type": "stream",
     "text": [
      "                                                         \r"
     ]
    },
    {
     "name": "stdout",
     "output_type": "stream",
     "text": [
      "Epoch [7/25], Train Loss: 0.1816, Train Accuracy: 93.24%, Train F1: 0.9624, Train Recall: 0.9325, Train Precision: 0.9944, Val Loss: 0.1965, Val Accuracy: 89.96%, Val F1: 0.9436, Val Recall: 0.8969, Val Precision: 0.9956\n",
      "Epoch 8/25\n"
     ]
    },
    {
     "name": "stderr",
     "output_type": "stream",
     "text": [
      "                                                         \r"
     ]
    },
    {
     "name": "stdout",
     "output_type": "stream",
     "text": [
      "Epoch [8/25], Train Loss: 0.1619, Train Accuracy: 96.20%, Train F1: 0.9789, Train Recall: 0.9651, Train Precision: 0.9932, Val Loss: 0.1626, Val Accuracy: 94.27%, Val F1: 0.9689, Val Recall: 0.9434, Val Precision: 0.9959\n",
      "Epoch 9/25\n"
     ]
    },
    {
     "name": "stderr",
     "output_type": "stream",
     "text": [
      "                                                         \r"
     ]
    },
    {
     "name": "stdout",
     "output_type": "stream",
     "text": [
      "Epoch [9/25], Train Loss: 0.1510, Train Accuracy: 96.09%, Train F1: 0.9782, Train Recall: 0.9600, Train Precision: 0.9972, Val Loss: 0.1480, Val Accuracy: 96.06%, Val F1: 0.9789, Val Recall: 0.9626, Val Precision: 0.9960\n",
      "Epoch 10/25\n"
     ]
    },
    {
     "name": "stderr",
     "output_type": "stream",
     "text": [
      "                                                         \r"
     ]
    },
    {
     "name": "stdout",
     "output_type": "stream",
     "text": [
      "Epoch [10/25], Train Loss: 0.1281, Train Accuracy: 98.46%, Train F1: 0.9915, Train Recall: 0.9858, Train Precision: 0.9973, Val Loss: 0.1273, Val Accuracy: 96.77%, Val F1: 0.9828, Val Recall: 0.9701, Val Precision: 0.9960\n",
      "Epoch 11/25\n"
     ]
    },
    {
     "name": "stderr",
     "output_type": "stream",
     "text": [
      "                                                         \r"
     ]
    },
    {
     "name": "stdout",
     "output_type": "stream",
     "text": [
      "Epoch [11/25], Train Loss: 0.1344, Train Accuracy: 96.56%, Train F1: 0.9806, Train Recall: 0.9648, Train Precision: 0.9972, Val Loss: 0.1149, Val Accuracy: 96.77%, Val F1: 0.9828, Val Recall: 0.9701, Val Precision: 0.9960\n",
      "Epoch 12/25\n"
     ]
    },
    {
     "name": "stderr",
     "output_type": "stream",
     "text": [
      "                                                         \r"
     ]
    },
    {
     "name": "stdout",
     "output_type": "stream",
     "text": [
      "Epoch [12/25], Train Loss: 0.1257, Train Accuracy: 97.86%, Train F1: 0.9882, Train Recall: 0.9805, Train Precision: 0.9960, Val Loss: 0.1237, Val Accuracy: 96.42%, Val F1: 0.9807, Val Recall: 0.9659, Val Precision: 0.9960\n",
      "Epoch 13/25\n"
     ]
    },
    {
     "name": "stderr",
     "output_type": "stream",
     "text": [
      "                                                         \r"
     ]
    },
    {
     "name": "stdout",
     "output_type": "stream",
     "text": [
      "Epoch [13/25], Train Loss: 0.1158, Train Accuracy: 98.22%, Train F1: 0.9901, Train Recall: 0.9830, Train Precision: 0.9973, Val Loss: 0.1061, Val Accuracy: 98.92%, Val F1: 0.9943, Val Recall: 0.9925, Val Precision: 0.9961\n",
      "Epoch 14/25\n"
     ]
    },
    {
     "name": "stderr",
     "output_type": "stream",
     "text": [
      "                                                         \r"
     ]
    },
    {
     "name": "stdout",
     "output_type": "stream",
     "text": [
      "Epoch [14/25], Train Loss: 0.1187, Train Accuracy: 98.46%, Train F1: 0.9914, Train Recall: 0.9869, Train Precision: 0.9960, Val Loss: 0.0991, Val Accuracy: 98.57%, Val F1: 0.9923, Val Recall: 0.9886, Val Precision: 0.9961\n",
      "Epoch 15/25\n"
     ]
    },
    {
     "name": "stderr",
     "output_type": "stream",
     "text": [
      "                                                          \r"
     ]
    },
    {
     "name": "stdout",
     "output_type": "stream",
     "text": [
      "Epoch [15/25], Train Loss: 0.0992, Train Accuracy: 98.22%, Train F1: 0.9901, Train Recall: 0.9831, Train Precision: 0.9973, Val Loss: 0.0910, Val Accuracy: 99.28%, Val F1: 0.9961, Val Recall: 1.0000, Val Precision: 0.9923\n",
      "Epoch 16/25\n"
     ]
    },
    {
     "name": "stderr",
     "output_type": "stream",
     "text": [
      "                                                               \r"
     ]
    },
    {
     "name": "stdout",
     "output_type": "stream",
     "text": [
      "Epoch [16/25], Train Loss: 0.0861, Train Accuracy: 99.41%, Train F1: 0.9967, Train Recall: 0.9948, Train Precision: 0.9987, Val Loss: 0.0823, Val Accuracy: 99.28%, Val F1: 0.9961, Val Recall: 1.0000, Val Precision: 0.9923\n",
      "Epoch 17/25\n"
     ]
    },
    {
     "name": "stderr",
     "output_type": "stream",
     "text": [
      "                                                         \r"
     ]
    },
    {
     "name": "stdout",
     "output_type": "stream",
     "text": [
      "Epoch [17/25], Train Loss: 0.0943, Train Accuracy: 99.05%, Train F1: 0.9947, Train Recall: 0.9934, Train Precision: 0.9960, Val Loss: 0.0783, Val Accuracy: 98.92%, Val F1: 0.9941, Val Recall: 0.9922, Val Precision: 0.9960\n",
      "Epoch 18/25\n"
     ]
    },
    {
     "name": "stderr",
     "output_type": "stream",
     "text": [
      "                                                         \r"
     ]
    },
    {
     "name": "stdout",
     "output_type": "stream",
     "text": [
      "Epoch [18/25], Train Loss: 0.0890, Train Accuracy: 98.81%, Train F1: 0.9934, Train Recall: 0.9895, Train Precision: 0.9973, Val Loss: 0.0783, Val Accuracy: 98.57%, Val F1: 0.9921, Val Recall: 0.9883, Val Precision: 0.9960\n",
      "Epoch 19/25\n"
     ]
    },
    {
     "name": "stderr",
     "output_type": "stream",
     "text": [
      "                                                         \r"
     ]
    },
    {
     "name": "stdout",
     "output_type": "stream",
     "text": [
      "Epoch [19/25], Train Loss: 0.0777, Train Accuracy: 99.29%, Train F1: 0.9960, Train Recall: 0.9947, Train Precision: 0.9973, Val Loss: 0.0716, Val Accuracy: 99.28%, Val F1: 0.9961, Val Recall: 1.0000, Val Precision: 0.9923\n",
      "Epoch 20/25\n"
     ]
    },
    {
     "name": "stderr",
     "output_type": "stream",
     "text": [
      "                                                               \r"
     ]
    },
    {
     "name": "stdout",
     "output_type": "stream",
     "text": [
      "Epoch [20/25], Train Loss: 0.0714, Train Accuracy: 99.41%, Train F1: 0.9967, Train Recall: 0.9948, Train Precision: 0.9987, Val Loss: 0.0679, Val Accuracy: 98.57%, Val F1: 0.9922, Val Recall: 0.9922, Val Precision: 0.9922\n",
      "Epoch 21/25\n"
     ]
    },
    {
     "name": "stderr",
     "output_type": "stream",
     "text": [
      "                                                         \r"
     ]
    },
    {
     "name": "stdout",
     "output_type": "stream",
     "text": [
      "Epoch [21/25], Train Loss: 0.0671, Train Accuracy: 99.05%, Train F1: 0.9948, Train Recall: 0.9922, Train Precision: 0.9974, Val Loss: 0.0598, Val Accuracy: 99.28%, Val F1: 0.9961, Val Recall: 1.0000, Val Precision: 0.9923\n",
      "Epoch 22/25\n"
     ]
    },
    {
     "name": "stderr",
     "output_type": "stream",
     "text": [
      "                                                         \r"
     ]
    },
    {
     "name": "stdout",
     "output_type": "stream",
     "text": [
      "Epoch [22/25], Train Loss: 0.0723, Train Accuracy: 99.17%, Train F1: 0.9954, Train Recall: 0.9922, Train Precision: 0.9987, Val Loss: 0.0678, Val Accuracy: 98.92%, Val F1: 0.9942, Val Recall: 1.0000, Val Precision: 0.9885\n",
      "Epoch 23/25\n"
     ]
    },
    {
     "name": "stderr",
     "output_type": "stream",
     "text": [
      "                                                         \r"
     ]
    },
    {
     "name": "stdout",
     "output_type": "stream",
     "text": [
      "Epoch [23/25], Train Loss: 0.0635, Train Accuracy: 99.64%, Train F1: 0.9980, Train Recall: 0.9974, Train Precision: 0.9987, Val Loss: 0.0552, Val Accuracy: 98.92%, Val F1: 0.9942, Val Recall: 0.9961, Val Precision: 0.9922\n",
      "Epoch 24/25\n"
     ]
    },
    {
     "name": "stderr",
     "output_type": "stream",
     "text": [
      "                                                         \r"
     ]
    },
    {
     "name": "stdout",
     "output_type": "stream",
     "text": [
      "Epoch [24/25], Train Loss: 0.0585, Train Accuracy: 99.53%, Train F1: 0.9974, Train Recall: 0.9948, Train Precision: 1.0000, Val Loss: 0.0665, Val Accuracy: 98.57%, Val F1: 0.9923, Val Recall: 1.0000, Val Precision: 0.9848\n",
      "Epoch 25/25\n"
     ]
    },
    {
     "name": "stderr",
     "output_type": "stream",
     "text": [
      "                                                         \r"
     ]
    },
    {
     "name": "stdout",
     "output_type": "stream",
     "text": [
      "Epoch [25/25], Train Loss: 0.0596, Train Accuracy: 99.29%, Train F1: 0.9961, Train Recall: 0.9935, Train Precision: 0.9987, Val Loss: 0.0762, Val Accuracy: 97.85%, Val F1: 0.9884, Val Recall: 0.9961, Val Precision: 0.9809\n"
     ]
    },
    {
     "name": "stderr",
     "output_type": "stream",
     "text": [
      "                                                      "
     ]
    },
    {
     "name": "stdout",
     "output_type": "stream",
     "text": [
      "Test Accuracy: 98.74%, Test F1: 0.9934, Test Recall: 1.0000, Test Precision: 0.9869\n"
     ]
    },
    {
     "name": "stderr",
     "output_type": "stream",
     "text": [
      "\r"
     ]
    }
   ],
   "source": [
    "from sklearn.metrics import accuracy_score, f1_score, recall_score, precision_score\n",
    "from tqdm import tqdm\n",
    "import torch\n",
    "import torch.nn as nn\n",
    "import torch.optim as optim\n",
    "import numpy as np\n",
    "\n",
    "# Définir la perte et l'optimiseur\n",
    "criterion = nn.BCEWithLogitsLoss(pos_weight=class_weights)  # Pour classification binaire sur plusieurs catégories\n",
    "optimizer = optim.AdamW(model.parameters(), lr=1e-4)\n",
    "\n",
    "# Initialisation des listes pour stocker les métriques\n",
    "epochs = []\n",
    "train_losses = []\n",
    "val_losses = []\n",
    "train_accuracies = []\n",
    "val_accuracies = []\n",
    "train_f1s = []\n",
    "val_f1s = []\n",
    "train_recalls = []\n",
    "val_recalls = []\n",
    "train_precisions = []\n",
    "val_precisions = []\n",
    "\n",
    "# Boucle d'entraînement\n",
    "num_epochs = 25\n",
    "for epoch in range(num_epochs):\n",
    "    model.train()\n",
    "    running_loss = 0.0\n",
    "    correct_train = 0\n",
    "    all_train_labels = []\n",
    "    all_train_preds = []\n",
    "\n",
    "    print(f\"Epoch {epoch + 1}/{num_epochs}\")\n",
    "    for images, labels in tqdm(train_loader, desc=\"Training\", leave=False):\n",
    "        images = images.to(device)\n",
    "        labels = labels.to(device).float()  # Labels doivent être de type float pour BCEWithLogitsLoss\n",
    "\n",
    "        optimizer.zero_grad()\n",
    "        outputs = model(images)\n",
    "        logits = outputs.logits  # Extraire les logits pour la perte\n",
    "        loss = criterion(logits, labels)\n",
    "        loss.backward()\n",
    "        optimizer.step()\n",
    "\n",
    "        running_loss += loss.item()\n",
    "        probabilities = torch.sigmoid(logits).detach().cpu().numpy()\n",
    "        predictions = probabilities > 0.5\n",
    "        all_train_labels.append(labels.cpu().numpy())\n",
    "        all_train_preds.append(probabilities)\n",
    "        correct_train += (predictions == labels.cpu().numpy()).sum()\n",
    "\n",
    "    all_train_labels = np.vstack(all_train_labels)\n",
    "    all_train_preds = np.vstack(all_train_preds)\n",
    "\n",
    "    train_f1 = f1_score(all_train_labels, all_train_preds > 0.5, average=\"macro\")\n",
    "    train_recall = recall_score(all_train_labels, all_train_preds > 0.5, average=\"macro\")\n",
    "    train_precision = precision_score(all_train_labels, all_train_preds > 0.5, average=\"macro\")\n",
    "    train_accuracy = correct_train / (len(train_dataset) * 3)\n",
    "\n",
    "    train_f1s.append(train_f1)\n",
    "    train_recalls.append(train_recall)\n",
    "    train_precisions.append(train_precision)\n",
    "\n",
    "    # Validation\n",
    "    model.eval()\n",
    "    val_loss = 0.0\n",
    "    correct_val = 0\n",
    "    all_val_labels = []\n",
    "    all_val_preds = []\n",
    "\n",
    "    with torch.no_grad():\n",
    "        for images, labels in tqdm(val_loader, desc=\"Validating\", leave=False):\n",
    "            images = images.to(device)\n",
    "            labels = labels.to(device).float()\n",
    "            outputs = model(images)\n",
    "            logits = outputs.logits  # Extraire les logits pour la validation\n",
    "            loss = criterion(logits, labels)\n",
    "            val_loss += loss.item()\n",
    "\n",
    "            probabilities = torch.sigmoid(logits).cpu().numpy()\n",
    "            predictions = probabilities > 0.5\n",
    "            all_val_labels.append(labels.cpu().numpy())\n",
    "            all_val_preds.append(probabilities)\n",
    "            correct_val += (predictions == labels.cpu().numpy()).sum()\n",
    "\n",
    "    all_val_labels = np.vstack(all_val_labels)\n",
    "    all_val_preds = np.vstack(all_val_preds)\n",
    "\n",
    "    val_f1 = f1_score(all_val_labels, all_val_preds > 0.5, average=\"macro\")\n",
    "    val_recall = recall_score(all_val_labels, all_val_preds > 0.5, average=\"macro\")\n",
    "    val_precision = precision_score(all_val_labels, all_val_preds > 0.5, average=\"macro\")\n",
    "    val_accuracy = correct_val / (len(val_dataset) * 3)\n",
    "\n",
    "    val_f1s.append(val_f1)\n",
    "    val_recalls.append(val_recall)\n",
    "    val_precisions.append(val_precision)\n",
    "\n",
    "    # Stocker les métriques\n",
    "    epochs.append(epoch + 1)\n",
    "    train_losses.append(running_loss / len(train_loader))\n",
    "    val_losses.append(val_loss / len(val_loader))\n",
    "    train_accuracies.append(train_accuracy * 100)\n",
    "    val_accuracies.append(val_accuracy * 100)\n",
    "\n",
    "    print(f\"Epoch [{epoch + 1}/{num_epochs}], Train Loss: {running_loss / len(train_loader):.4f}, Train Accuracy: {train_accuracy * 100:.2f}%, Train F1: {train_f1:.4f}, Train Recall: {train_recall:.4f}, Train Precision: {train_precision:.4f}, Val Loss: {val_loss / len(val_loader):.4f}, Val Accuracy: {val_accuracy * 100:.2f}%, Val F1: {val_f1:.4f}, Val Recall: {val_recall:.4f}, Val Precision: {val_precision:.4f}\")\n",
    "\n",
    "# Boucle d'évaluation sur le test set\n",
    "model.eval()\n",
    "correct = 0\n",
    "all_test_labels = []\n",
    "all_test_preds = []\n",
    "\n",
    "with torch.no_grad():\n",
    "    for images, labels in tqdm(test_loader, desc=\"Testing\", leave=False):\n",
    "        images = images.to(device)\n",
    "        labels = labels.to(device).float()\n",
    "        outputs = model(images)\n",
    "        logits = outputs.logits  # Extraire les logits pour le test\n",
    "        probabilities = torch.sigmoid(logits).cpu().numpy()\n",
    "        predictions = probabilities > 0.5  # Convertir logits en probabilités\n",
    "        all_test_labels.append(labels.cpu().numpy())\n",
    "        all_test_preds.append(probabilities)\n",
    "        correct += (predictions == labels.cpu().numpy()).sum()\n",
    "\n",
    "all_test_labels = np.vstack(all_test_labels)\n",
    "all_test_preds = np.vstack(all_test_preds)\n",
    "\n",
    "f1 = f1_score(all_test_labels, all_test_preds > 0.5, average=\"macro\")\n",
    "recall = recall_score(all_test_labels, all_test_preds > 0.5, average=\"macro\")\n",
    "precision = precision_score(all_test_labels, all_test_preds > 0.5, average=\"macro\")\n",
    "accuracy = correct / (len(test_dataset) * 3)  # Nombre total d'échantillons * 3 catégories\n",
    "\n",
    "print(f\"Test Accuracy: {accuracy * 100:.2f}%, Test F1: {f1:.4f}, Test Recall: {recall:.4f}, Test Precision: {precision:.4f}\")\n"
   ]
  },
  {
   "cell_type": "code",
   "execution_count": 11,
   "metadata": {},
   "outputs": [
    {
     "data": {
      "image/png": "[encoded data removed]",
      "text/plain": [
       "<Figure size 1500x1000 with 4 Axes>"
      ]
     },
     "metadata": {},
     "output_type": "display_data"
    }
   ],
   "source": [
    "\n",
    "\n",
    "# Créer un dossier pour sauvegarder les résultats\n",
    "output_dir = model_name.split('/')[-1]\n",
    "os.makedirs(output_dir, exist_ok=True)\n",
    "\n",
    "# Tracer les métriques\n",
    "plt.figure(figsize=(15, 10))\n",
    "\n",
    "# Tracer les pertes\n",
    "plt.subplot(2, 2, 1)\n",
    "plt.plot(epochs, train_losses, label='Train Loss')\n",
    "plt.plot(epochs, val_losses, label='Validation Loss')\n",
    "plt.xlabel('Epoch')\n",
    "plt.ylabel('Loss')\n",
    "plt.legend()\n",
    "plt.title('Training and Validation Loss')\n",
    "\n",
    "# Tracer les précisions\n",
    "plt.subplot(2, 2, 2)\n",
    "plt.plot(epochs, train_accuracies, label='Train Accuracy')\n",
    "plt.plot(epochs, val_accuracies, label='Validation Accuracy')\n",
    "plt.xlabel('Epoch')\n",
    "plt.ylabel('Accuracy (%)')\n",
    "plt.legend()\n",
    "plt.title('Training and Validation Accuracy')\n",
    "\n",
    "# Tracer le F1\n",
    "plt.subplot(2, 2, 3)\n",
    "plt.plot(epochs, train_f1s, label='Train F1')\n",
    "plt.plot(epochs, val_f1s, label='Validation F1')\n",
    "plt.xlabel('Epoch')\n",
    "plt.ylabel('Accuracy (%)')\n",
    "plt.legend()\n",
    "plt.title('Training and Validation F1')\n",
    "\n",
    "# Tracer le Recall\n",
    "plt.subplot(2, 2, 4)\n",
    "plt.plot(epochs, train_recalls, label='Train Recall')\n",
    "plt.plot(epochs, val_recalls, label='Validation Recall')\n",
    "plt.xlabel('Epoch')\n",
    "plt.ylabel('Accuracy (%)')\n",
    "plt.legend()\n",
    "plt.title('Training and Validation Recall')\n",
    "\n",
    "plt.tight_layout()\n",
    "# Sauvegarder les graphiques\n",
    "plot_path = os.path.join(output_dir, \"training_metrics.png\")\n",
    "plt.savefig(plot_path)\n",
    "plt.show()\n"
   ]
  },
  {
   "cell_type": "code",
   "execution_count": 10,
   "metadata": {},
   "outputs": [],
   "source": [
    "import json\n",
    "\n",
    "# Sauvegarder les métriques dans un fichier JSON\n",
    "metrics = {\n",
    "    \"epochs\": epochs,\n",
    "    \"train_losses\": train_losses,\n",
    "    \"val_losses\": val_losses,\n",
    "    \"train_accuracies\": train_accuracies,\n",
    "    \"val_accuracies\": val_accuracies,\n",
    "    \"train_f1s\" : train_f1s,\n",
    "    \"val_f1s\" : val_f1s,\n",
    "    \"train_recalls\" : train_recalls,\n",
    "    \"val_recalls\" : val_recalls,\n",
    "    \n",
    "\n",
    "\n",
    "}\n",
    "metrics_path = os.path.join(output_dir, \"metrics.json\")\n",
    "with open(metrics_path, \"w\") as f:\n",
    "    json.dump(metrics, f, indent=4)\n"
   ]
  },
  {
   "cell_type": "markdown",
   "metadata": {},
   "source": [
    "### Distribution intra classe"
   ]
  },
  {
   "cell_type": "code",
   "execution_count": 37,
   "metadata": {},
   "outputs": [
    {
     "data": {
      "image/png": "[encoded data removed]",
      "text/plain": [
       "<Figure size 1000x600 with 1 Axes>"
      ]
     },
     "metadata": {},
     "output_type": "display_data"
    }
   ],
   "source": [
    "# Fonction pour afficher la distribution intra-classe\n",
    "def plot_intraclass_distribution(labels, title=\"Intra-Class Distribution\"):\n",
    "    class_counts_0 = np.sum(labels == 0, axis=0)\n",
    "    class_counts_1 = np.sum(labels == 1, axis=0)\n",
    "    class_names = [id2label[i] for i in range(labels.shape[1])]\n",
    "\n",
    "    x = np.arange(len(class_names))\n",
    "    width = 0.35  # largeur des barres\n",
    "\n",
    "    plt.figure(figsize=(10, 6))\n",
    "    plt.bar(x - width/2, class_counts_0, width, label=\"0\")\n",
    "    plt.bar(x + width/2, class_counts_1, width, label=\"1\")\n",
    "\n",
    "    plt.title(title)\n",
    "    plt.xlabel(\"Classes\")\n",
    "    plt.ylabel(\"Count\")\n",
    "    plt.xticks(x, class_names)\n",
    "    plt.legend()\n",
    "    plt.show()\n",
    "\n",
    "\n",
    "# Afficher la distribution intra-classe\n",
    "data_labels = np.vstack(all_test_labels)  # Remplacez par les labels du dataset à analyser\n",
    "plot_intraclass_distribution(data_labels, title=\"Test Set Intra-Class Distribution\")\n"
   ]
  },
  {
   "cell_type": "markdown",
   "metadata": {},
   "source": [
    "### Inference without timm"
   ]
  },
  {
   "cell_type": "code",
   "execution_count": 22,
   "metadata": {},
   "outputs": [
    {
     "name": "stdout",
     "output_type": "stream",
     "text": [
      "Probabilities: [0.9999875  0.99998903 0.9999999 ]\n",
      "Predictions: [ True  True  True]\n"
     ]
    }
   ],
   "source": [
    "from torchvision import transforms\n",
    "\n",
    "transform = transforms.Compose([\n",
    "    transforms.Resize((256, 256)),\n",
    "    transforms.ToTensor(),\n",
    "    transforms.Normalize(mean=[0.485, 0.456, 0.406], std=[0.229, 0.224, 0.225])\n",
    "])\n",
    "\n",
    "# Fonction d'inférence\n",
    "def infer_single_image(image, model, transform):\n",
    "    model.eval()\n",
    "    with torch.no_grad():\n",
    "        image = transform(image).unsqueeze(0).to(device)  # Appliquer les transformations et ajouter une dimension batch\n",
    "        outputs = model(image)\n",
    "        logits = outputs.logits\n",
    "        probabilities = torch.sigmoid(logits).cpu().numpy()[0]  # Convertir logits en probabilités\n",
    "        predictions = probabilities > 0.5  # Seuil pour binariser les prédictions\n",
    "        return probabilities, predictions\n",
    "\n",
    "# Exemple d'inférence\n",
    "from PIL import Image\n",
    "example_image = Image.open(\"test\\ANG008037.jpg\")\n",
    "probabilities, predictions = infer_single_image(example_image, model, transform)\n",
    "print(\"Probabilities:\", probabilities)\n",
    "print(\"Predictions:\", predictions)\n"
   ]
  },
  {
   "cell_type": "markdown",
   "metadata": {},
   "source": [
    "### Inference with TIMM"
   ]
  },
  {
   "cell_type": "code",
   "execution_count": 36,
   "metadata": {},
   "outputs": [
    {
     "name": "stdout",
     "output_type": "stream",
     "text": [
      "Probabilities: [0.48605734 0.42151546 0.55140543]\n",
      "Predictions: [False False  True]\n",
      "Predicted Labels: ['TF']\n"
     ]
    }
   ],
   "source": [
    "from torchvision import transforms\n",
    "\n",
    "# Fonction d'inférence\n",
    "def infer_single_image(image, model, transform):\n",
    "    model.eval()\n",
    "    with torch.no_grad():\n",
    "        image = transform(image).unsqueeze(0).to(device)  # Appliquer les transformations et ajouter une dimension batch\n",
    "        logits = model(image)  # Utiliser directement les logits car timm retourne un tenseur\n",
    "        probabilities = torch.sigmoid(logits).cpu().numpy()[0]  # Convertir logits en probabilités\n",
    "        predictions = probabilities > 0.5  # Seuil pour binariser les prédictions\n",
    "\n",
    "        # Convertir les prédictions en labels\n",
    "        predictions_labels = [id2label[idx] for idx, pred in enumerate(predictions) if pred]\n",
    "        return probabilities, predictions, predictions_labels\n",
    "\n",
    "\n",
    "# Exemple d'inférence\n",
    "from PIL import Image\n",
    "example_image = Image.open(\"test\\ALF043980.jpg\")\n",
    "probabilities, predictions, predictions_labels = infer_single_image(example_image, model, transform)\n",
    "print(\"Probabilities:\", probabilities)\n",
    "print(\"Predictions:\", predictions)\n"
   ]
  }
 ],
 "metadata": {
  "kernelspec": {
   "display_name": "Python 3",
   "language": "python",
   "name": "python3"
  },
  "language_info": {
   "codemirror_mode": {
    "name": "ipython",
    "version": 3
   },
   "file_extension": ".py",
   "mimetype": "text/x-python",
   "name": "python",
   "nbconvert_exporter": "python",
   "pygments_lexer": "ipython3",
   "version": "3.10.11"
  }
 },
 "nbformat": 4,
 "nbformat_minor": 2
}
